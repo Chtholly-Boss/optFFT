{
 "cells": [
  {
   "cell_type": "markdown",
   "metadata": {},
   "source": [
    "# FFT Implementation in Python\n",
    "Use Python to implement FFT, just for learning the basic concepts"
   ]
  },
  {
   "cell_type": "markdown",
   "metadata": {},
   "source": [
    "## Radix-2 FFT\n",
    "Naive Implementation of FFT:\n",
    "* Cooley-Turkey Framework\n",
    "* Radix: 2\n",
    "* padding 0 to deal with variable length\n"
   ]
  },
  {
   "cell_type": "code",
   "execution_count": null,
   "metadata": {},
   "outputs": [],
   "source": [
    "# Recursive Version\n",
    "import numpy as np\n",
    "def fft_recursive(x):\n",
    "    N = len(x)\n",
    "    if N <= 1:\n",
    "        return x\n",
    "\n",
    "    even = fft_recursive(x[0::2])  # even_indices\n",
    "    odd = fft_recursive(x[1::2])   # odd_indices\n",
    "\n",
    "    # twiddle factor\n",
    "    T = [np.exp(-2j * np.pi * k / N) * odd[k] for k in range(N // 2)]\n",
    "    return [even[k] + T[k] for k in range(N // 2)] + \\\n",
    "           [even[k] - T[k] for k in range(N // 2)]\n"
   ]
  },
  {
   "cell_type": "code",
   "execution_count": null,
   "metadata": {},
   "outputs": [],
   "source": [
    "# Iterative Version of FFT\n",
    "def bit_reverse(n, bits):\n",
    "    result = 0\n",
    "    for i in range(bits):\n",
    "        result <<= 1  # Shift result left by 1\n",
    "        result |= (n & 1)  # Get the least significant bit of n and add it to result\n",
    "        n >>= 1  # Shift n right by 1\n",
    "    return result\n",
    "\n",
    "def fft_iterative(x):\n",
    "    N = len(x)\n",
    "    # iterations needed\n",
    "    logN = int(np.log2(N))\n",
    "\n",
    "    # do bit-reverse\n",
    "    indices = np.arange(N)\n",
    "    bit_reversed_indices = [bit_reverse(i,logN) for i in range(N)]\n",
    "    x = [x[i] for i in bit_reversed_indices]\n",
    "\n",
    "    # FFT \n",
    "    for s in range(1, logN + 1):\n",
    "        m = 1 << s \n",
    "        wm = np.exp(-2j * np.pi / m)  # 旋转因子\n",
    "        for k in range(0, N, m):\n",
    "            w = 1  # 初始化w\n",
    "            for j in range(m // 2):\n",
    "                t = w * x[k + j + m // 2]\n",
    "                u = x[k + j]\n",
    "                x[k + j] = u + t\n",
    "                x[k + j + m // 2] = u - t\n",
    "                w *= wm \n",
    "\n",
    "    return x"
   ]
  },
  {
   "cell_type": "code",
   "execution_count": null,
   "metadata": {},
   "outputs": [],
   "source": [
    "# padding zero for calculation\n",
    "def zero_padding(x):\n",
    "    N = len(x)\n",
    "    next_pow2 = 2 ** np.ceil(np.log2(N)).astype(int)\n",
    "    padded_x = np.pad(x, (0, next_pow2 - N), 'constant')\n",
    "    return padded_x;"
   ]
  },
  {
   "cell_type": "code",
   "execution_count": null,
   "metadata": {},
   "outputs": [],
   "source": [
    "# Results\n",
    "def formatRes(res):\n",
    "  return [f\"{val.real:.2f} + {val.imag:.2f}j\" for val in res]\n",
    "if __name__ == \"__main__\":\n",
    "    print(\"Input: \")\n",
    "    arrIn = np.arange(8)\n",
    "    print(arrIn,\"\\n\")\n",
    "\n",
    "    print(\"Recursive Result: \")\n",
    "    print(\"radix 2: \")\n",
    "    print(formatRes(fft_recursive(arrIn)),\"\\n\")\n",
    "\n",
    "    print(\"Iterative Result: \")\n",
    "    print(formatRes(fft_iterative(arrIn)),\"\\n\")\n",
    "\n",
    "    print(\"Random length FFT by padding 0: \")\n",
    "    arrIn = np.arange(10)\n",
    "    print(\"Input: \")\n",
    "    print(arrIn,\"\\n\")\n",
    "    res = fft_iterative(zero_padding(arrIn))\n",
    "    print(formatRes(res[:16]),\"\\n\")\n",
    "\n",
    "\n"
   ]
  },
  {
   "cell_type": "markdown",
   "metadata": {},
   "source": [
    "## Different Radix\n",
    "Implement FFT using other radixes."
   ]
  },
  {
   "cell_type": "code",
   "execution_count": null,
   "metadata": {},
   "outputs": [],
   "source": [
    "import numpy as np\n",
    "# radix 4 recursive FFT\n",
    "def fft_recursive_r4(x):\n",
    "    N = len(x)\n",
    "    if N <= 1:\n",
    "        return x\n",
    "    if N % 4 != 0:\n",
    "        raise ValueError(\"Length of input must be a power of 4.\")\n",
    "    \n",
    "    # Split into four parts\n",
    "    x0 = fft_recursive_r4(x[0::4])  # FFT of indices 0, 4, 8, ...\n",
    "    x1 = fft_recursive_r4(x[1::4])  # FFT of indices 1, 5, 9, ...\n",
    "    x2 = fft_recursive_r4(x[2::4])  # FFT of indices 2, 6, 10, ...\n",
    "    x3 = fft_recursive_r4(x[3::4])  # FFT of indices 3, 7, 11, ...\n",
    "    \n",
    "    T = [np.exp(-2j * np.pi * k / N) for k in range(N // 4)]\n",
    "    \n",
    "    # Combine results\n",
    "    result = [0] * N\n",
    "    for k in range(N // 4):\n",
    "        result[k] = x0[k] + T[k] * x1[k] + T[k]**2 * x2[k] + T[k]**3 * x3[k]\n",
    "        result[k + N // 4] = x0[k] - 1j * T[k] * x1[k] - T[k]**2 * x2[k] + 1j * T[k]**3 * x3[k]\n",
    "        result[k + 2 * N // 4] = x0[k] - T[k] * x1[k] + T[k]**2 * x2[k] - T[k]**3 * x3[k]\n",
    "        result[k + 3 * N // 4] = x0[k] + 1j * T[k] * x1[k] - T[k]**2 * x2[k] - 1j * T[k]**3 * x3[k]\n",
    "    \n",
    "    return result"
   ]
  },
  {
   "cell_type": "code",
   "execution_count": null,
   "metadata": {},
   "outputs": [],
   "source": [
    "# Results\n",
    "def formatRes(res):\n",
    "  return [f\"{val.real:.2f} + {val.imag:.2f}j\" for val in res]\n",
    "if __name__ == \"__main__\":\n",
    "    print(\"Input: \")\n",
    "    arrIn = np.arange(16)\n",
    "    print(arrIn)\n",
    "\n",
    "    print(\"Recursive Result: \")\n",
    "    print(\"radix 4: \")\n",
    "    print(formatRes(fft_recursive_r4(arrIn)))\n"
   ]
  },
  {
   "cell_type": "code",
   "execution_count": null,
   "metadata": {},
   "outputs": [],
   "source": []
  }
 ],
 "metadata": {
  "kernelspec": {
   "display_name": "Python 3",
   "language": "python",
   "name": "python3"
  },
  "language_info": {
   "codemirror_mode": {
    "name": "ipython",
    "version": 3
   },
   "file_extension": ".py",
   "mimetype": "text/x-python",
   "name": "python",
   "nbconvert_exporter": "python",
   "pygments_lexer": "ipython3",
   "version": "3.12.4"
  }
 },
 "nbformat": 4,
 "nbformat_minor": 2
}
